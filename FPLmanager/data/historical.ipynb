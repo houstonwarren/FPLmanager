{
 "cells": [
  {
   "cell_type": "code",
   "execution_count": 2,
   "metadata": {},
   "outputs": [],
   "source": [
    "# set python to pick up local directory\n",
    "from pathlib import Path\n",
    "import sys\n",
    "import os\n",
    "path_root = str(Path(os.getcwd()).parents[1])\n",
    "sys.path.append(path_root)\n",
    "# sys.path.append(package_root)\n",
    "\n",
    "# auto reload\n",
    "%reload_ext autoreload\n",
    "%autoreload 2\n",
    "\n",
    "# hush\n",
    "import warnings\n",
    "warnings.simplefilter('always', category=FutureWarning)"
   ]
  },
  {
   "cell_type": "code",
   "execution_count": 3,
   "metadata": {},
   "outputs": [],
   "source": [
    "import pandas as pd\n",
    "import numpy as np\n",
    "import json\n",
    "import requests\n",
    "from FPLmanager.data.fplapi import *\n",
    "import time"
   ]
  },
  {
   "cell_type": "markdown",
   "metadata": {},
   "source": [
    "## Read in Historical Data"
   ]
  },
  {
   "cell_type": "code",
   "execution_count": 187,
   "metadata": {},
   "outputs": [],
   "source": [
    "team_list = pd.read_csv('clean/teams.csv')"
   ]
  },
  {
   "cell_type": "markdown",
   "metadata": {},
   "source": [
    "### 2016, 2017\n",
    "\n",
    "Replace missing team values"
   ]
  },
  {
   "cell_type": "code",
   "execution_count": 258,
   "metadata": {},
   "outputs": [],
   "source": [
    "season_ids = pd.read_csv(\"raw/season_ids.csv\")"
   ]
  },
  {
   "cell_type": "code",
   "execution_count": 247,
   "metadata": {},
   "outputs": [
    {
     "name": "stderr",
     "output_type": "stream",
     "text": [
      "/var/folders/3d/tnk1dqns7kd6x1yqw6m752z00000gn/T/ipykernel_31069/1253842148.py:1: DtypeWarning: Columns (3) have mixed types. Specify dtype option on import or set low_memory=False.\n",
      "  games_1622 = pd.read_csv(\"raw/cleaned_merged_seasons.csv\")\n",
      "/var/folders/3d/tnk1dqns7kd6x1yqw6m752z00000gn/T/ipykernel_31069/1253842148.py:6: SettingWithCopyWarning: \n",
      "A value is trying to be set on a copy of a slice from a DataFrame.\n",
      "Try using .loc[row_indexer,col_indexer] = value instead\n",
      "\n",
      "See the caveats in the documentation: https://pandas.pydata.org/pandas-docs/stable/user_guide/indexing.html#returning-a-view-versus-a-copy\n",
      "  games_1618['date'] = pd.to_datetime(games_1618['kickoff_time'])\n"
     ]
    }
   ],
   "source": [
    "games_1622 = pd.read_csv(\"raw/cleaned_merged_seasons.csv\")\n",
    "games_1622 = games_1622.rename(columns={\"season_x\": \"season\", \"team_x\": \"team\"})\n",
    "games_1618 = games_1622[games_1622['season'].isin([\"2016-17\", \"2017-18\"])]\n",
    "games_2022 = games_1622[games_1622['season'].isin([\"2020-21\", \"2021-22\"])]\n",
    "\n",
    "games_1618['date'] = pd.to_datetime(games_1618['kickoff_time'])\n",
    "games_1618 = games_1618.sort_values(by=['date'])\n",
    "games_1618['date'] = games_1618['date'].apply(lambda x: x.strftime('%Y-%m-%d'))\n",
    "\n",
    "games_1618['home_team'] = games_1618.apply(lambda x: x['team'] if x['was_home'] else x['opp_team_name'], axis=1)\n",
    "games_1618['away_team'] = games_1618.apply(lambda x: x['team'] if not x['was_home'] else x['opp_team_name'], axis=1)"
   ]
  },
  {
   "cell_type": "code",
   "execution_count": 248,
   "metadata": {},
   "outputs": [],
   "source": [
    "fixtures_1617 = pd.read_csv(\"raw/fixtures_1617.csv\")[['date', 'home_team', 'away_team']]\n",
    "\n",
    "missing_merged = games_1618.merge(fixtures_1617, on=['date'], how='left')\n",
    "missing_merged = missing_merged[\n",
    "    (missing_merged['home_team_x'] == missing_merged['home_team_y']) | \n",
    "    (missing_merged['away_team_x'] == missing_merged['away_team_y'])\n",
    "].reset_index(drop=True)\n",
    "\n",
    "missing_merged['team'] = missing_merged.apply(\n",
    "    lambda x: x['home_team_y'] if x['was_home'] else x['away_team_y'], axis=1\n",
    ")\n",
    "games_1618_corrected = missing_merged.drop(columns=['date', 'home_team_x', 'away_team_x', 'home_team_y', 'away_team_y'])"
   ]
  },
  {
   "cell_type": "markdown",
   "metadata": {},
   "source": [
    "### Covid: 2019 - 2020"
   ]
  },
  {
   "cell_type": "code",
   "execution_count": 249,
   "metadata": {},
   "outputs": [],
   "source": [
    "teams_1920 = team_list[team_list.season == \"2019-20\"][['team', 'team_name']]\n",
    "fixtures_1920 = pd.read_csv(\"raw/fixtures_1920.csv\")\n",
    "\n",
    "fixtures_1920 = fixtures_1920.merge(teams_1920, left_on='team_h', right_on='team', how='left')\n",
    "fixtures_1920 = fixtures_1920.merge(teams_1920, left_on='team_a', right_on='team', how='left')\n",
    "fixtures_1920 = fixtures_1920.rename(columns={\"id\": \"fixture\", \"team_name_x\": \"home_team\", \"team_name_y\": \"away_team\"})\n",
    "fixtures_1920 = fixtures_1920[['fixture', 'home_team', 'away_team']]"
   ]
  },
  {
   "cell_type": "code",
   "execution_count": 250,
   "metadata": {},
   "outputs": [],
   "source": [
    "# fix weird gameweeks\n",
    "games_1920 = pd.read_csv(\"raw/gw_1920.csv\")\n",
    "games_1920['round'] = games_1920['round'].apply(lambda x: x if x < 30 else x-9)\n",
    "games_1920['gw'] = games_1920['gw'].apply(lambda x: x if x < 30 else x-9)\n",
    "\n",
    "# fix player names\n",
    "games_1920['name'] = games_1920['name'].apply(lambda x: \" \".join(x.split('_')[:-1]))\n",
    "\n",
    "# merge with fixtures to get team names\n",
    "games_1920 = games_1920.merge(fixtures_1920, on='fixture', how='left')\n",
    "games_1920['team'] = games_1920.apply(lambda x: x['home_team'] if x['was_home'] else x['away_team'], axis=1)\n",
    "games_1920['opp_team_name'] = games_1920.apply(lambda x: x['away_team'] if x['was_home'] else x['home_team'], axis=1)\n",
    "games_1920 = games_1920.drop(columns=['home_team', 'away_team'])\n",
    "games_1920['season'] = \"2019-20\""
   ]
  },
  {
   "cell_type": "code",
   "execution_count": 257,
   "metadata": {},
   "outputs": [
    {
     "data": {
      "text/plain": [
       "Index(['name', 'assists', 'bonus', 'bps', 'clean_sheets', 'creativity',\n",
       "       'element', 'fixture', 'goals_conceded', 'goals_scored', 'ict_index',\n",
       "       'influence', 'kickoff_time', 'minutes', 'opponent_team', 'own_goals',\n",
       "       'penalties_missed', 'penalties_saved', 'red_cards', 'round', 'saves',\n",
       "       'selected', 'team_a_score', 'team_h_score', 'threat', 'total_points',\n",
       "       'transfers_balance', 'transfers_in', 'transfers_out', 'value',\n",
       "       'was_home', 'yellow_cards', 'GW', 'team', 'opp_team_name', 'season'],\n",
       "      dtype='object')"
      ]
     },
     "execution_count": 257,
     "metadata": {},
     "output_type": "execute_result"
    }
   ],
   "source": [
    "games_1920.columns"
   ]
  },
  {
   "cell_type": "markdown",
   "metadata": {},
   "source": [
    "### 2023 - 2024"
   ]
  },
  {
   "cell_type": "code",
   "execution_count": 251,
   "metadata": {},
   "outputs": [],
   "source": [
    "teams_2324 = team_list[team_list.season == \"2023-24\"][['team', 'team_name']]\n",
    "fixtures_2324 = pd.read_csv(\"raw/fixtures_2324.csv\")\n",
    "\n",
    "fixtures_2324 = fixtures_2324.merge(teams_2324, left_on='team_h', right_on='team', how='left')\n",
    "fixtures_2324 = fixtures_2324.merge(teams_2324, left_on='team_a', right_on='team', how='left')\n",
    "fixtures_2324 = fixtures_2324.rename(columns={\"id\": \"fixture\", \"team_name_x\": \"home_team\", \"team_name_y\": \"away_team\"})\n",
    "fixtures_2324 = fixtures_2324[['fixture', 'home_team', 'away_team']]"
   ]
  },
  {
   "cell_type": "code",
   "execution_count": 252,
   "metadata": {},
   "outputs": [],
   "source": [
    "games_2324 = pd.read_csv(\"raw/gw_2324.csv\")\n",
    "games_2324 = games_2324.rename(columns={\"season_x\": \"season\", \"team_x\": \"team\"})\n",
    "games_2324 = games_2324.drop(columns=[\n",
    "    'expected_assists', 'expected_goals', 'expected_goal_involvements', 'expected_goals_conceded', 'starts', 'xP'\n",
    "])\n",
    "\n",
    "games_2324 = games_2324.merge(fixtures_2324, on='fixture', how='left')\n",
    "games_2324['team'] = games_2324.apply(lambda x: x['home_team'] if x['was_home'] else x['away_team'], axis=1)\n",
    "games_2324['opp_team_name'] = games_2324.apply(lambda x: x['away_team'] if x['was_home'] else x['home_team'], axis=1)\n",
    "games_2324 = games_2324.drop(columns=['home_team', 'away_team'])\n",
    "games_2324['season'] = \"2023-24\""
   ]
  },
  {
   "cell_type": "code",
   "execution_count": 246,
   "metadata": {},
   "outputs": [
    {
     "data": {
      "text/plain": [
       "{'position'}"
      ]
     },
     "execution_count": 246,
     "metadata": {},
     "output_type": "execute_result"
    }
   ],
   "source": [
    "set(sorted(games_2324.columns)) - set(sorted(games_1920.columns))"
   ]
  },
  {
   "cell_type": "markdown",
   "metadata": {},
   "source": [
    "### Merge Across Seasons and Apply Unique Codes"
   ]
  },
  {
   "cell_type": "code",
   "execution_count": 266,
   "metadata": {},
   "outputs": [],
   "source": [
    "season_ids = pd.read_csv(\"raw/season_ids.csv\")\n",
    "season_ids = season_ids[[\"first_name\", \"second_name\", \"id\", \"code\", \"season\"]]\n",
    "season_ids['name'] = season_ids[\"first_name\"] + \" \" + season_ids[\"second_name\"]\n",
    "season_ids = season_ids.drop(columns=[\"first_name\", \"second_name\"])\n",
    "season_ids = season_ids.rename(columns={\"id\": \"element\"})"
   ]
  },
  {
   "cell_type": "code",
   "execution_count": 314,
   "metadata": {},
   "outputs": [],
   "source": [
    "# games = pd.concat([games_1618_corrected, games_1920, games_2022, games_2324], ignore_index=True)\n",
    "player_history = pd.concat([games_1618_corrected, games_2022, games_2324], ignore_index=True)\n",
    "player_history['position'] = player_history.position.apply(lambda x: 'GK' if x == 'GKP' else x)\n",
    "player_history = player_history.merge(season_ids.drop(columns=\"name\"), on=[\"season\", \"element\"], how=\"left\")\n",
    "player_history = player_history.sort_values(by=['season', 'gw', 'name']).reset_index(drop=True)\n",
    "player_history.to_csv(\"clean/players.csv\", index=False)"
   ]
  },
  {
   "cell_type": "code",
   "execution_count": 6,
   "metadata": {},
   "outputs": [],
   "source": [
    "# pos_mapping = {\n",
    "#     1: \"GK\",\n",
    "#     2: \"DEF\",\n",
    "#     3: \"MID\",\n",
    "#     4: \"FWD\"\n",
    "# }\n",
    "\n",
    "# players_24 = pd.DataFrame(bootstrap[\"elements\"])[\n",
    "#     ['first_name', 'second_name', 'code', 'id', 'element_type'] # 'team', 'team_code',\n",
    "# ].drop_duplicates().reset_index(drop=True)\n",
    "# players_24[\"position\"] = players_24[\"element_type\"].map(pos_mapping)\n",
    "# players_24[\"name\"] = players_24[\"first_name\"] + \" \" + players_24[\"second_name\"]\n",
    "# players_24 = players_24.rename(columns={\"id\": \"element\"})\n",
    "# players_24 = players_24.drop(columns=[\"first_name\", \"second_name\", \"element_type\"])\n",
    "\n",
    "# player_histories = []\n",
    "# for player in players_24.iterrows():\n",
    "#     player = player[1]\n",
    "#     print(player['name'])\n",
    "#     player_history = get_player_history(player['element'])['history']\n",
    "#     player_histories.extend(player_history)\n",
    "\n",
    "# player_histories = pd.DataFrame(player_histories)"
   ]
  },
  {
   "cell_type": "markdown",
   "metadata": {},
   "source": [
    "## Create Derived Tables"
   ]
  },
  {
   "cell_type": "code",
   "execution_count": 5,
   "metadata": {},
   "outputs": [],
   "source": [
    "players = pd.read_csv(\"clean/players.csv\")"
   ]
  },
  {
   "cell_type": "markdown",
   "metadata": {},
   "source": [
    "### Fixture Information"
   ]
  },
  {
   "cell_type": "code",
   "execution_count": 316,
   "metadata": {},
   "outputs": [],
   "source": [
    "fixtures = players.copy()[\n",
    "    ['fixture', 'gw', 'season', 'kickoff_time', 'team', 'opp_team_name', 'was_home']\n",
    "].drop_duplicates().sort_values(by=['season', 'gw', 'team'])\n",
    "fixtures['home_team'] = fixtures.apply(lambda x: x['team'] if x['was_home'] else x['opp_team_name'], axis=1)\n",
    "fixtures['away_team'] = fixtures.apply(lambda x: x['team'] if not x['was_home'] else x['opp_team_name'], axis=1)\n",
    "fixtures = fixtures.drop(columns=['team', 'opp_team_name', 'was_home'])\n",
    "fixtures = fixtures.sort_values(by=['season', 'gw', 'fixture']).drop_duplicates().reset_index(drop=True)\n",
    "fixtures.to_csv(\"clean/fixtures.csv\", index=False)"
   ]
  },
  {
   "cell_type": "markdown",
   "metadata": {},
   "source": [
    "### Price Information"
   ]
  },
  {
   "cell_type": "code",
   "execution_count": 317,
   "metadata": {},
   "outputs": [],
   "source": [
    "# subset only to times when player value changes\n",
    "player_value = players.copy()[['name', 'value', 'element', 'season', 'code', 'gw']].sort_values(\n",
    "    by=['season', 'gw', 'name']\n",
    ").reset_index(drop=True)\n",
    "player_value['value_delta'] = player_value.groupby(['code', 'season'])['value'].diff()\n",
    "price_changes = player_value[\n",
    "    (player_value['value_delta'].isna()) | (player_value['value_delta'] != 0)\n",
    "].reset_index(drop=True)\n",
    "price_changes = price_changes.drop(columns=['value_delta'])\n",
    "price_changes.to_csv(\"clean/prices.csv\", index=False)"
   ]
  },
  {
   "cell_type": "markdown",
   "metadata": {},
   "source": [
    "### Player Information"
   ]
  },
  {
   "cell_type": "code",
   "execution_count": 333,
   "metadata": {},
   "outputs": [],
   "source": [
    "player_info = players.copy()[['code', 'element', 'position', 'season', 'team', 'gw']]\n",
    "player_info = player_info.loc[player_info.groupby(['code', 'element', 'position', 'season', 'team'])['gw'].idxmin()]\n",
    "\n",
    "# just choose a name if they have multiple\n",
    "player_names = players.copy()[['name', 'code']].sort_values('name')\n",
    "player_names = player_names.groupby('code')['name'].first().reset_index()\n",
    "\n",
    "player_info = player_info.merge(player_names, on='code', how='left')\n",
    "player_info = player_info[['name', 'code', 'element', 'position', 'season', 'team', 'gw']]\n",
    "player_info = player_info.sort_values(by=['name', 'season', 'gw']).reset_index(drop=True)\n",
    "player_info.to_csv(\"clean/player_info.csv\", index=False)"
   ]
  },
  {
   "cell_type": "markdown",
   "metadata": {},
   "source": [
    "## Write to SQL"
   ]
  },
  {
   "cell_type": "code",
   "execution_count": 14,
   "metadata": {},
   "outputs": [],
   "source": [
    "from FPLmanager.data.db import *\n",
    "from FPLmanager import DB_URL\n",
    "from sqlalchemy import create_engine"
   ]
  },
  {
   "cell_type": "code",
   "execution_count": 15,
   "metadata": {},
   "outputs": [],
   "source": [
    "players = pd.read_csv(\"clean/players.csv\")\n",
    "fixtures = pd.read_csv(\"clean/fixtures.csv\")\n",
    "player_info = pd.read_csv(\"clean/player_info.csv\")\n",
    "prices = pd.read_csv(\"clean/prices.csv\")\n",
    "teams = pd.read_csv(\"clean/teams.csv\")"
   ]
  },
  {
   "cell_type": "code",
   "execution_count": 6,
   "metadata": {},
   "outputs": [],
   "source": [
    "# # fixtures update\n",
    "# max_val = 44470\n",
    "# min_val = 44470 - 1900\n",
    "# fixtures['unique_id'] = range(min_val, max_val)\n",
    "# fixtures['code'] = fixtures.apply(lambda x: int(x['season'][2:4] + str(x['unique_id'])), axis=1)\n",
    "# fixtures = fixtures.drop(columns=['unique_id'])\n",
    "# fixtures.to_csv(\"clean/fixtures.csv\", index=False)"
   ]
  },
  {
   "cell_type": "code",
   "execution_count": 17,
   "metadata": {},
   "outputs": [],
   "source": [
    "db = create_engine(DB_URL) \n",
    "conn = db.connect()\n",
    "\n",
    "players.to_sql('player_gw', conn, if_exists='append', index=False)\n",
    "fixtures.to_sql('fixtures', conn, if_exists='append', index=False)\n",
    "player_info.to_sql('players', conn, if_exists='append', index=False)\n",
    "prices.to_sql('prices', conn, if_exists='append', index=False)\n",
    "teams.to_sql('teams', conn, if_exists='append', index=False)\n",
    "conn.close()"
   ]
  }
 ],
 "metadata": {
  "kernelspec": {
   "display_name": "fpl-manager",
   "language": "python",
   "name": "python3"
  },
  "language_info": {
   "codemirror_mode": {
    "name": "ipython",
    "version": 3
   },
   "file_extension": ".py",
   "mimetype": "text/x-python",
   "name": "python",
   "nbconvert_exporter": "python",
   "pygments_lexer": "ipython3",
   "version": "3.11.9"
  }
 },
 "nbformat": 4,
 "nbformat_minor": 2
}

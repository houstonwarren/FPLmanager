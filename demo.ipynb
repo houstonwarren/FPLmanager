{
 "cells": [
  {
   "cell_type": "markdown",
   "metadata": {},
   "source": [
    "# FPL Manager Demo"
   ]
  },
  {
   "cell_type": "code",
   "execution_count": 2,
   "metadata": {},
   "outputs": [],
   "source": [
    "# set python to pick up local directory\n",
    "from pathlib import Path\n",
    "import sys\n",
    "import os\n",
    "path_root = str(Path(os.getcwd()).parents[0])\n",
    "# package_root = str(Path(os.getcwd()).parents[1])\n",
    "sys.path.append(path_root)\n",
    "# sys.path.append(package_root)\n",
    "\n",
    "# auto reload\n",
    "%reload_ext autoreload\n",
    "%autoreload 2\n",
    "\n",
    "# hush\n",
    "import warnings\n",
    "warnings.simplefilter('always', category=FutureWarning)"
   ]
  },
  {
   "cell_type": "code",
   "execution_count": 3,
   "metadata": {},
   "outputs": [],
   "source": [
    "from FPLmanager.data.fplapi import *\n",
    "from FPLmanager.game import GameState\n",
    "from FPLmanager.entry import Entry, EntrySim\n",
    "from FPLmanager.utils import *\n",
    "from FPLmanager.data.db import *\n",
    "import pandas as pd\n",
    "from FPLmanager.data.update import *\n",
    "# import soccerdata as sd"
   ]
  },
  {
   "cell_type": "markdown",
   "metadata": {},
   "source": [
    "## Update Database"
   ]
  },
  {
   "cell_type": "code",
   "execution_count": 23,
   "metadata": {},
   "outputs": [],
   "source": [
    "current_gw, current_season = current_gameweek()\n",
    "bootstrap = get_bootstrap_data()\n",
    "fixtures = get_fixtures(prior=False)\n",
    "players = get_players(prior=False)\n",
    "player_gws = get_player_gws(prior=False)\n",
    "prices = get_prices(prior=False)\n",
    "teams = get_teams(prior=False)"
   ]
  },
  {
   "cell_type": "code",
   "execution_count": 21,
   "metadata": {},
   "outputs": [
    {
     "data": {
      "text/plain": [
       "(0, 0, 0, 20, 0)"
      ]
     },
     "execution_count": 21,
     "metadata": {},
     "output_type": "execute_result"
    }
   ],
   "source": [
    "len(fixtures), len(players), len(player_gws), len(teams), len(prices)"
   ]
  },
  {
   "cell_type": "code",
   "execution_count": 22,
   "metadata": {},
   "outputs": [
    {
     "name": "stdout",
     "output_type": "stream",
     "text": [
      "Updated 20 rows in table 'teams'\n",
      "Updated 380 rows in table 'fixtures'\n",
      "Updated 1243 rows in table 'player_gw'\n",
      "Updated 633 rows in table 'players'\n"
     ]
    }
   ],
   "source": [
    "update_database()"
   ]
  },
  {
   "cell_type": "code",
   "execution_count": 24,
   "metadata": {},
   "outputs": [
    {
     "data": {
      "text/plain": [
       "(380, 633, 1243, 20, 0)"
      ]
     },
     "execution_count": 24,
     "metadata": {},
     "output_type": "execute_result"
    }
   ],
   "source": [
    "len(fixtures), len(players), len(player_gws), len(teams), len(prices)"
   ]
  },
  {
   "cell_type": "code",
   "execution_count": null,
   "metadata": {},
   "outputs": [],
   "source": []
  },
  {
   "cell_type": "code",
   "execution_count": null,
   "metadata": {},
   "outputs": [],
   "source": []
  },
  {
   "cell_type": "code",
   "execution_count": null,
   "metadata": {},
   "outputs": [],
   "source": []
  },
  {
   "cell_type": "markdown",
   "metadata": {},
   "source": [
    "## Team State"
   ]
  },
  {
   "cell_type": "code",
   "execution_count": null,
   "metadata": {},
   "outputs": [],
   "source": [
    "eid = '801383'\n",
    "gw = 1\n",
    "\n",
    "game = GameState(gw=gw)\n",
    "entry = Entry(entry_id=eid, game_state=game)"
   ]
  },
  {
   "cell_type": "code",
   "execution_count": null,
   "metadata": {},
   "outputs": [
    {
     "data": {
      "text/html": [
       "<div>\n",
       "<style scoped>\n",
       "    .dataframe tbody tr th:only-of-type {\n",
       "        vertical-align: middle;\n",
       "    }\n",
       "\n",
       "    .dataframe tbody tr th {\n",
       "        vertical-align: top;\n",
       "    }\n",
       "\n",
       "    .dataframe thead th {\n",
       "        text-align: right;\n",
       "    }\n",
       "</style>\n",
       "<table border=\"1\" class=\"dataframe\">\n",
       "  <thead>\n",
       "    <tr style=\"text-align: right;\">\n",
       "      <th></th>\n",
       "      <th>name</th>\n",
       "      <th>value</th>\n",
       "      <th>element</th>\n",
       "      <th>season</th>\n",
       "      <th>code</th>\n",
       "      <th>GW</th>\n",
       "    </tr>\n",
       "  </thead>\n",
       "  <tbody>\n",
       "  </tbody>\n",
       "</table>\n",
       "</div>"
      ],
      "text/plain": [
       "Empty DataFrame\n",
       "Columns: [name, value, element, season, code, GW]\n",
       "Index: []"
      ]
     },
     "metadata": {},
     "output_type": "display_data"
    }
   ],
   "source": [
    "get_most_recent_prices(gw=gw).sort_values('code')"
   ]
  },
  {
   "cell_type": "code",
   "execution_count": null,
   "metadata": {},
   "outputs": [],
   "source": [
    "transfers = get_entry_transfers(entry_id=eid)\n",
    "picks = get_entry_picks(entry_id=eid, gw=1)\n",
    "entry_history = get_entry_history(entry_id=eid)"
   ]
  },
  {
   "cell_type": "code",
   "execution_count": null,
   "metadata": {},
   "outputs": [],
   "source": [
    "picks = get_entry_picks(entry_id=eid, gw=2)"
   ]
  },
  {
   "cell_type": "code",
   "execution_count": null,
   "metadata": {},
   "outputs": [
    {
     "data": {
      "text/plain": [
       "[{'element': 91,\n",
       "  'position': 1,\n",
       "  'multiplier': 1,\n",
       "  'is_captain': False,\n",
       "  'is_vice_captain': False},\n",
       " {'element': 3,\n",
       "  'position': 2,\n",
       "  'multiplier': 1,\n",
       "  'is_captain': False,\n",
       "  'is_vice_captain': False},\n",
       " {'element': 495,\n",
       "  'position': 3,\n",
       "  'multiplier': 1,\n",
       "  'is_captain': False,\n",
       "  'is_vice_captain': False},\n",
       " {'element': 333,\n",
       "  'position': 4,\n",
       "  'multiplier': 1,\n",
       "  'is_captain': False,\n",
       "  'is_vice_captain': False},\n",
       " {'element': 366,\n",
       "  'position': 5,\n",
       "  'multiplier': 1,\n",
       "  'is_captain': False,\n",
       "  'is_vice_captain': False},\n",
       " {'element': 181,\n",
       "  'position': 6,\n",
       "  'multiplier': 1,\n",
       "  'is_captain': False,\n",
       "  'is_vice_captain': False},\n",
       " {'element': 199,\n",
       "  'position': 7,\n",
       "  'multiplier': 1,\n",
       "  'is_captain': False,\n",
       "  'is_vice_captain': False},\n",
       " {'element': 17,\n",
       "  'position': 8,\n",
       "  'multiplier': 1,\n",
       "  'is_captain': False,\n",
       "  'is_vice_captain': True},\n",
       " {'element': 401,\n",
       "  'position': 9,\n",
       "  'multiplier': 2,\n",
       "  'is_captain': True,\n",
       "  'is_vice_captain': False},\n",
       " {'element': 351,\n",
       "  'position': 10,\n",
       "  'multiplier': 1,\n",
       "  'is_captain': False,\n",
       "  'is_vice_captain': False},\n",
       " {'element': 129,\n",
       "  'position': 11,\n",
       "  'multiplier': 1,\n",
       "  'is_captain': False,\n",
       "  'is_vice_captain': False},\n",
       " {'element': 201,\n",
       "  'position': 12,\n",
       "  'multiplier': 0,\n",
       "  'is_captain': False,\n",
       "  'is_vice_captain': False},\n",
       " {'element': 120,\n",
       "  'position': 13,\n",
       "  'multiplier': 0,\n",
       "  'is_captain': False,\n",
       "  'is_vice_captain': False},\n",
       " {'element': 44,\n",
       "  'position': 14,\n",
       "  'multiplier': 0,\n",
       "  'is_captain': False,\n",
       "  'is_vice_captain': False},\n",
       " {'element': 309,\n",
       "  'position': 15,\n",
       "  'multiplier': 0,\n",
       "  'is_captain': False,\n",
       "  'is_vice_captain': False}]"
      ]
     },
     "metadata": {},
     "output_type": "display_data"
    }
   ],
   "source": [
    "picks['picks']"
   ]
  },
  {
   "cell_type": "code",
   "execution_count": null,
   "metadata": {},
   "outputs": [
    {
     "data": {
      "text/plain": [
       "[]"
      ]
     },
     "metadata": {},
     "output_type": "display_data"
    }
   ],
   "source": [
    "entry_history['chips']"
   ]
  },
  {
   "cell_type": "code",
   "execution_count": null,
   "metadata": {},
   "outputs": [
    {
     "data": {
      "text/plain": [
       "[]"
      ]
     },
     "metadata": {},
     "output_type": "display_data"
    }
   ],
   "source": [
    "get_entry_transfers(entry_id=eid)"
   ]
  },
  {
   "cell_type": "code",
   "execution_count": null,
   "metadata": {},
   "outputs": [
    {
     "data": {
      "text/plain": [
       "{'event': 38,\n",
       " 'points': 46,\n",
       " 'total_points': 2506,\n",
       " 'rank': 6735057,\n",
       " 'rank_sort': 6747365,\n",
       " 'overall_rank': 66647,\n",
       " 'percentile_rank': 65,\n",
       " 'bank': 30,\n",
       " 'value': 1044,\n",
       " 'event_transfers': 1,\n",
       " 'event_transfers_cost': 0,\n",
       " 'points_on_bench': 3}"
      ]
     },
     "metadata": {},
     "output_type": "display_data"
    }
   ],
   "source": [
    "picks['entry_history']"
   ]
  },
  {
   "cell_type": "code",
   "execution_count": null,
   "metadata": {},
   "outputs": [],
   "source": [
    "bootstrap = get_bootstrap_data()"
   ]
  },
  {
   "cell_type": "code",
   "execution_count": null,
   "metadata": {},
   "outputs": [],
   "source": [
    "events = pd.DataFrame(bootstrap['events'])"
   ]
  }
 ],
 "metadata": {
  "kernelspec": {
   "display_name": "fpl-manager",
   "language": "python",
   "name": "python3"
  },
  "language_info": {
   "codemirror_mode": {
    "name": "ipython",
    "version": 3
   },
   "file_extension": ".py",
   "mimetype": "text/x-python",
   "name": "python",
   "nbconvert_exporter": "python",
   "pygments_lexer": "ipython3",
   "version": "3.11.9"
  }
 },
 "nbformat": 4,
 "nbformat_minor": 2
}
